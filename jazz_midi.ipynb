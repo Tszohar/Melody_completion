{
 "cells": [
  {
   "cell_type": "markdown",
   "metadata": {},
   "source": [
    "# Melody_completion"
   ]
  },
  {
   "cell_type": "markdown",
   "metadata": {},
   "source": [
    "- A model predicting the next note based on melodiy\n",
    "- The Date Jazz-midi was taken from kaggle\\\n",
    "(https://www.kaggle.com/saikayala/jazz-ml-ready-midi)"
   ]
  },
  {
   "cell_type": "markdown",
   "metadata": {},
   "source": [
    "#### Packages:"
   ]
  },
  {
   "cell_type": "code",
   "execution_count": 49,
   "metadata": {
    "ExecuteTime": {
     "end_time": "2020-05-20T02:12:32.969805Z",
     "start_time": "2020-05-20T02:12:32.921777Z"
    }
   },
   "outputs": [],
   "source": [
    "import pandas as pd\n",
    "from pandas import DataFrame\n",
    "import numpy as np\n",
    "import matplotlib.pyplot as plt\n",
    "import seaborn as sns\n",
    "from scipy.ndimage.interpolation import shift\n",
    "from sklearn.feature_extraction.text import CountVectorizer\n",
    "from collections import Counter \n",
    "from string import digits\n",
    "from sklearn.model_selection import train_test_split\n",
    "from sklearn.linear_model import LogisticRegression\n",
    "from sklearn.pipeline import Pipeline\n",
    "from sklearn.metrics import accuracy_score\n",
    "from sklearn.multiclass import OneVsRestClassifier\n",
    "\n",
    "# style\n",
    "plt.style.use('seaborn')\n",
    "%matplotlib inline\n",
    "#display all columns\n",
    "#imports"
   ]
  },
  {
   "cell_type": "markdown",
   "metadata": {},
   "source": [
    "#### Upload The Data: "
   ]
  },
  {
   "cell_type": "code",
   "execution_count": 2,
   "metadata": {
    "ExecuteTime": {
     "end_time": "2020-05-20T02:01:32.201767Z",
     "start_time": "2020-05-20T02:01:32.137366Z"
    }
   },
   "outputs": [],
   "source": [
    "df = pd.read_csv('Jazz-midi.csv',index_col=None).drop(columns='Unnamed: 0')"
   ]
  },
  {
   "cell_type": "code",
   "execution_count": 3,
   "metadata": {
    "ExecuteTime": {
     "end_time": "2020-05-20T02:01:32.218834Z",
     "start_time": "2020-05-20T02:01:32.204508Z"
    }
   },
   "outputs": [
    {
     "data": {
      "text/html": [
       "<div>\n",
       "<style scoped>\n",
       "    .dataframe tbody tr th:only-of-type {\n",
       "        vertical-align: middle;\n",
       "    }\n",
       "\n",
       "    .dataframe tbody tr th {\n",
       "        vertical-align: top;\n",
       "    }\n",
       "\n",
       "    .dataframe thead th {\n",
       "        text-align: right;\n",
       "    }\n",
       "</style>\n",
       "<table border=\"1\" class=\"dataframe\">\n",
       "  <thead>\n",
       "    <tr style=\"text-align: right;\">\n",
       "      <th></th>\n",
       "      <th>Name</th>\n",
       "      <th>Notes</th>\n",
       "      <th>Len_Sequence</th>\n",
       "      <th>Unique_notes</th>\n",
       "      <th>len_Uni_Notes</th>\n",
       "    </tr>\n",
       "  </thead>\n",
       "  <tbody>\n",
       "    <tr>\n",
       "      <th>0</th>\n",
       "      <td>BreezeAndI.mid</td>\n",
       "      <td>['E-2', 'B-2', 'B-2', 'E-3', 'B-2', 'B-2', 'E-...</td>\n",
       "      <td>427</td>\n",
       "      <td>{'C3', 'F1', 'A2', 'B-0', 'E-1', 'E3', 'B1', '...</td>\n",
       "      <td>27</td>\n",
       "    </tr>\n",
       "    <tr>\n",
       "      <th>1</th>\n",
       "      <td>IfIHadYou.mid</td>\n",
       "      <td>['10.2.5', '10.2.5', '2.5.8', '2.5.8', '0.3.7'...</td>\n",
       "      <td>204</td>\n",
       "      <td>{'7.10.2', '6.9.0.2', '9.10.0.2.4', '6.9.0', '...</td>\n",
       "      <td>37</td>\n",
       "    </tr>\n",
       "    <tr>\n",
       "      <th>2</th>\n",
       "      <td>IllBeSeeingYou.mid</td>\n",
       "      <td>['E-2', 'E-2', 'B-2', 'B-2', 'G2', 'D3', 'F2',...</td>\n",
       "      <td>455</td>\n",
       "      <td>{'C3', 'F1', 'B-0', 'A2', 'E-1', 'D3', 'B1', '...</td>\n",
       "      <td>29</td>\n",
       "    </tr>\n",
       "    <tr>\n",
       "      <th>3</th>\n",
       "      <td>JustAGame.mid</td>\n",
       "      <td>['B3', '6.11', 'B1', 'E4', 'B1', 'F#4', 'B1', ...</td>\n",
       "      <td>1572</td>\n",
       "      <td>{'C3', '9.2', 'A2', 'B4', 'E3', 'A3', 'D5', 'B...</td>\n",
       "      <td>39</td>\n",
       "    </tr>\n",
       "    <tr>\n",
       "      <th>4</th>\n",
       "      <td>Unforgettable.mid</td>\n",
       "      <td>['G2', 'G1', 'G2', 'G1', 'G2', 'G2', 'G2', 'C#...</td>\n",
       "      <td>421</td>\n",
       "      <td>{'A0', 'C3', 'F1', 'A2', 'E-1', 'E3', 'G1', 'D...</td>\n",
       "      <td>28</td>\n",
       "    </tr>\n",
       "  </tbody>\n",
       "</table>\n",
       "</div>"
      ],
      "text/plain": [
       "                 Name                                              Notes  \\\n",
       "0      BreezeAndI.mid  ['E-2', 'B-2', 'B-2', 'E-3', 'B-2', 'B-2', 'E-...   \n",
       "1       IfIHadYou.mid  ['10.2.5', '10.2.5', '2.5.8', '2.5.8', '0.3.7'...   \n",
       "2  IllBeSeeingYou.mid  ['E-2', 'E-2', 'B-2', 'B-2', 'G2', 'D3', 'F2',...   \n",
       "3       JustAGame.mid  ['B3', '6.11', 'B1', 'E4', 'B1', 'F#4', 'B1', ...   \n",
       "4   Unforgettable.mid  ['G2', 'G1', 'G2', 'G1', 'G2', 'G2', 'G2', 'C#...   \n",
       "\n",
       "   Len_Sequence                                       Unique_notes  \\\n",
       "0           427  {'C3', 'F1', 'A2', 'B-0', 'E-1', 'E3', 'B1', '...   \n",
       "1           204  {'7.10.2', '6.9.0.2', '9.10.0.2.4', '6.9.0', '...   \n",
       "2           455  {'C3', 'F1', 'B-0', 'A2', 'E-1', 'D3', 'B1', '...   \n",
       "3          1572  {'C3', '9.2', 'A2', 'B4', 'E3', 'A3', 'D5', 'B...   \n",
       "4           421  {'A0', 'C3', 'F1', 'A2', 'E-1', 'E3', 'G1', 'D...   \n",
       "\n",
       "   len_Uni_Notes  \n",
       "0             27  \n",
       "1             37  \n",
       "2             29  \n",
       "3             39  \n",
       "4             28  "
      ]
     },
     "execution_count": 3,
     "metadata": {},
     "output_type": "execute_result"
    }
   ],
   "source": [
    "df.head()"
   ]
  },
  {
   "cell_type": "markdown",
   "metadata": {},
   "source": [
    "#### EDA:"
   ]
  },
  {
   "cell_type": "code",
   "execution_count": 4,
   "metadata": {
    "ExecuteTime": {
     "end_time": "2020-05-20T02:01:32.223867Z",
     "start_time": "2020-05-20T02:01:32.220483Z"
    },
    "scrolled": true
   },
   "outputs": [
    {
     "data": {
      "text/plain": [
       "\"['E-2', 'B-2', 'B-2', 'E-3', 'B-2', 'B-2', 'E-2', 'B-2', 'E-2', 'B-2', 'E-1', 'E-2', 'B-2', 'B-2', 'E-3', 'E-3', 'B-2', 'G2', 'E-2', 'E2', 'B2', 'B2', 'E3', 'B2', 'B2', 'E-2', 'E-2', 'B-2', 'B-2', 'E-2', 'E-1', 'E-2', 'B-1', 'F2', 'E-2', 'B-2', 'E-3', 'B-2', 'E-2', 'E-1', 'B-2', 'E-1', 'E-3', 'E-2', 'B-2', 'F2', 'E2', 'B1', 'B1', 'E2', 'E1', 'B1', 'E-2', 'B-2', 'E2', 'E-2', 'C2', 'F2', 'C3', 'F3', 'C3', 'F#2', 'B-1', 'B-1', 'G2', 'G#2', 'C3', 'G2', 'G1', 'A2', 'B-2', 'D3', 'G2', 'C2', 'D2', 'E-2', 'G2', 'F#2', 'F2', 'F1', 'G2', 'G#2', 'C3', 'F2', 'B-1', 'B-2', 'F2', 'D2', 'E-2', 'E-3', 'B-2', 'G2', 'C2', 'D2', 'E2', 'G2', 'F2', 'F2', 'G2', 'G#2', 'C3', 'B-1', 'C3', 'B-1', 'B-1', 'B-1', 'B-1', 'E-2', 'B-2', 'E-3', 'B-2', 'E2', 'E-2', 'E-2', 'B-2', 'C2', 'C2', 'F2', 'C2', 'G2', 'G#2', 'C2', 'C3', 'C2', 'B-1', 'B-1', 'C2', 'D2', 'F2', 'E-2', 'E-3', 'B-2', 'G2', 'F2', 'A1', 'B-1', 'E2', 'E-2', 'F2', 'G2', 'B-2', 'B-1', 'B-1', 'B-1', 'B-1', 'E-2', 'B-2', 'E-2', 'B-2', 'E-1', 'E-2', 'E-1', 'B-2', 'E-1', 'E-3', 'E-2', 'B-2', 'F2', 'E2', 'B2', 'E2', 'E1', 'B2', 'E-2', 'B-2', 'E2', 'E-2', 'A1', 'B-1', 'E-2', 'B-2', 'E-3', 'B-2', 'E-2', 'B-2', 'E-2', 'E-1', 'B-2', 'E2', 'B2', 'E2', 'B2', 'E1', 'E-2', 'E-2', 'B-2', 'B-2', 'E-2', 'E-2', 'B-2', 'C2', 'D2', 'E-2', 'F2', 'C3', 'G#2', 'F2', 'B-1', 'C3', 'G#2', 'B-1', 'G2', 'G1', 'A2', 'B-2', 'D3', 'G2', 'C2', 'C1', 'D2', 'E-2', 'G2', 'C2', 'F2', 'F3', 'C3', 'G#2', 'B-1', 'F1', 'F2', 'D2', 'B-1', 'F1', 'E-2', 'F2', 'G2', 'B-2', 'C2', 'D2', 'E2', 'G2', 'F2', 'F1', 'G2', 'G#2', 'C3', 'F2', 'B-1', 'B-1', 'B-1', 'B-0', 'B-1', 'E-2', 'B-2', 'G2', 'E-2', 'E-2', 'E-2', 'C3', 'C3', 'G2', 'F2', 'C2', 'G2', 'G#2', 'C2', 'C3', 'C2', 'B-1', 'F1', 'C2', 'C#2', 'F1', 'D2', 'E-2', 'F2', 'G2', 'B-2', 'F2', 'C2', 'C3', 'C2', 'B-1', 'B-1', 'E-2', 'F2', 'G2', 'B-2', 'B-1', 'B-1', 'B-1', 'B-2', 'F2', 'B-1', 'E-2', 'B-2', 'E-2', 'E-1', 'B-2', 'E-2', 'B-2', 'E-2', 'B-2', 'E-1', 'E2', 'B2', 'E3', 'B2', 'E-2', 'B-2', 'E-2', 'B1', 'B-1', 'B-0', 'B-1', 'E-2', 'B-2', 'E-2', 'E-1', 'B-2', 'E-2', 'B-2', 'B-2', 'E-3', 'B-2', 'E-2', 'B-2', 'E2', 'B1', 'B1', 'E2', 'E1', 'B1', 'E-2', 'B-2', 'E-2', 'E-1', 'C2', 'D2', 'E-2', 'F2', 'C2', 'G2', 'G#2', 'C2', 'C3', 'C2', 'B-1', 'B-2', 'C3', 'G#2', 'G2', 'D3', 'G3', 'D3', 'C#2', 'C2', 'G2', 'C3', 'G2', 'F#2', 'F2', 'F1', 'G2', 'G#2', 'C3', 'F2', 'B-1', 'B-2', 'F2', 'D2', 'E-2', 'B-1', 'B-2', 'G2', 'E-2', 'B-1', 'C3', 'C2', 'E2', 'G2', 'F2', 'F1', 'G2', 'G#2', 'C3', 'F2', 'B-1', 'B-1', 'E2', 'B-1', 'B-1', 'E-2', 'F2', 'G2', 'B-2', 'E-2', 'E-2', 'B1', 'C2', 'C2', 'G2', 'F2', 'C2', 'C3', 'G#2', 'F2', 'C2', 'B-1', 'C2', 'D2', 'F2', 'E-2', 'B-1', 'F2', 'G2', 'B-1', 'B-2', 'B-1', 'F2', 'F2', 'C3', 'B-1', 'B-1', 'E-2', 'F2', 'G2', 'B-2', 'B-1', 'B-1', 'B-1', 'D2', 'E-2', 'B-2', 'B-2', 'E-3', 'E-2']\""
      ]
     },
     "execution_count": 4,
     "metadata": {},
     "output_type": "execute_result"
    }
   ],
   "source": [
    "# see The structure of the notes\n",
    "df.Notes[0]"
   ]
  },
  {
   "cell_type": "markdown",
   "metadata": {},
   "source": [
    "#### we will intreduce a new dataframe in order to construct the Data to our perpocess: "
   ]
  },
  {
   "cell_type": "code",
   "execution_count": 5,
   "metadata": {
    "ExecuteTime": {
     "end_time": "2020-05-20T02:01:32.227739Z",
     "start_time": "2020-05-20T02:01:32.225254Z"
    }
   },
   "outputs": [],
   "source": [
    "mc = df.copy()"
   ]
  },
  {
   "cell_type": "code",
   "execution_count": 6,
   "metadata": {
    "ExecuteTime": {
     "end_time": "2020-05-20T02:01:32.232577Z",
     "start_time": "2020-05-20T02:01:32.229144Z"
    }
   },
   "outputs": [],
   "source": [
    "mc = mc.set_index('Name')"
   ]
  },
  {
   "cell_type": "code",
   "execution_count": 7,
   "metadata": {
    "ExecuteTime": {
     "end_time": "2020-05-20T02:01:32.243247Z",
     "start_time": "2020-05-20T02:01:32.235710Z"
    }
   },
   "outputs": [
    {
     "data": {
      "text/html": [
       "<div>\n",
       "<style scoped>\n",
       "    .dataframe tbody tr th:only-of-type {\n",
       "        vertical-align: middle;\n",
       "    }\n",
       "\n",
       "    .dataframe tbody tr th {\n",
       "        vertical-align: top;\n",
       "    }\n",
       "\n",
       "    .dataframe thead th {\n",
       "        text-align: right;\n",
       "    }\n",
       "</style>\n",
       "<table border=\"1\" class=\"dataframe\">\n",
       "  <thead>\n",
       "    <tr style=\"text-align: right;\">\n",
       "      <th></th>\n",
       "      <th>Notes</th>\n",
       "      <th>Len_Sequence</th>\n",
       "      <th>Unique_notes</th>\n",
       "      <th>len_Uni_Notes</th>\n",
       "    </tr>\n",
       "    <tr>\n",
       "      <th>Name</th>\n",
       "      <th></th>\n",
       "      <th></th>\n",
       "      <th></th>\n",
       "      <th></th>\n",
       "    </tr>\n",
       "  </thead>\n",
       "  <tbody>\n",
       "    <tr>\n",
       "      <th>BreezeAndI.mid</th>\n",
       "      <td>['E-2', 'B-2', 'B-2', 'E-3', 'B-2', 'B-2', 'E-...</td>\n",
       "      <td>427</td>\n",
       "      <td>{'C3', 'F1', 'A2', 'B-0', 'E-1', 'E3', 'B1', '...</td>\n",
       "      <td>27</td>\n",
       "    </tr>\n",
       "    <tr>\n",
       "      <th>IfIHadYou.mid</th>\n",
       "      <td>['10.2.5', '10.2.5', '2.5.8', '2.5.8', '0.3.7'...</td>\n",
       "      <td>204</td>\n",
       "      <td>{'7.10.2', '6.9.0.2', '9.10.0.2.4', '6.9.0', '...</td>\n",
       "      <td>37</td>\n",
       "    </tr>\n",
       "    <tr>\n",
       "      <th>IllBeSeeingYou.mid</th>\n",
       "      <td>['E-2', 'E-2', 'B-2', 'B-2', 'G2', 'D3', 'F2',...</td>\n",
       "      <td>455</td>\n",
       "      <td>{'C3', 'F1', 'B-0', 'A2', 'E-1', 'D3', 'B1', '...</td>\n",
       "      <td>29</td>\n",
       "    </tr>\n",
       "    <tr>\n",
       "      <th>JustAGame.mid</th>\n",
       "      <td>['B3', '6.11', 'B1', 'E4', 'B1', 'F#4', 'B1', ...</td>\n",
       "      <td>1572</td>\n",
       "      <td>{'C3', '9.2', 'A2', 'B4', 'E3', 'A3', 'D5', 'B...</td>\n",
       "      <td>39</td>\n",
       "    </tr>\n",
       "    <tr>\n",
       "      <th>Unforgettable.mid</th>\n",
       "      <td>['G2', 'G1', 'G2', 'G1', 'G2', 'G2', 'G2', 'C#...</td>\n",
       "      <td>421</td>\n",
       "      <td>{'A0', 'C3', 'F1', 'A2', 'E-1', 'E3', 'G1', 'D...</td>\n",
       "      <td>28</td>\n",
       "    </tr>\n",
       "  </tbody>\n",
       "</table>\n",
       "</div>"
      ],
      "text/plain": [
       "                                                                Notes  \\\n",
       "Name                                                                    \n",
       "BreezeAndI.mid      ['E-2', 'B-2', 'B-2', 'E-3', 'B-2', 'B-2', 'E-...   \n",
       "IfIHadYou.mid       ['10.2.5', '10.2.5', '2.5.8', '2.5.8', '0.3.7'...   \n",
       "IllBeSeeingYou.mid  ['E-2', 'E-2', 'B-2', 'B-2', 'G2', 'D3', 'F2',...   \n",
       "JustAGame.mid       ['B3', '6.11', 'B1', 'E4', 'B1', 'F#4', 'B1', ...   \n",
       "Unforgettable.mid   ['G2', 'G1', 'G2', 'G1', 'G2', 'G2', 'G2', 'C#...   \n",
       "\n",
       "                    Len_Sequence  \\\n",
       "Name                               \n",
       "BreezeAndI.mid               427   \n",
       "IfIHadYou.mid                204   \n",
       "IllBeSeeingYou.mid           455   \n",
       "JustAGame.mid               1572   \n",
       "Unforgettable.mid            421   \n",
       "\n",
       "                                                         Unique_notes  \\\n",
       "Name                                                                    \n",
       "BreezeAndI.mid      {'C3', 'F1', 'A2', 'B-0', 'E-1', 'E3', 'B1', '...   \n",
       "IfIHadYou.mid       {'7.10.2', '6.9.0.2', '9.10.0.2.4', '6.9.0', '...   \n",
       "IllBeSeeingYou.mid  {'C3', 'F1', 'B-0', 'A2', 'E-1', 'D3', 'B1', '...   \n",
       "JustAGame.mid       {'C3', '9.2', 'A2', 'B4', 'E3', 'A3', 'D5', 'B...   \n",
       "Unforgettable.mid   {'A0', 'C3', 'F1', 'A2', 'E-1', 'E3', 'G1', 'D...   \n",
       "\n",
       "                    len_Uni_Notes  \n",
       "Name                               \n",
       "BreezeAndI.mid                 27  \n",
       "IfIHadYou.mid                  37  \n",
       "IllBeSeeingYou.mid             29  \n",
       "JustAGame.mid                  39  \n",
       "Unforgettable.mid              28  "
      ]
     },
     "execution_count": 7,
     "metadata": {},
     "output_type": "execute_result"
    }
   ],
   "source": [
    "mc.head()"
   ]
  },
  {
   "cell_type": "code",
   "execution_count": 8,
   "metadata": {
    "ExecuteTime": {
     "end_time": "2020-05-20T02:01:32.249438Z",
     "start_time": "2020-05-20T02:01:32.245930Z"
    }
   },
   "outputs": [
    {
     "data": {
      "text/plain": [
       "(818, 4)"
      ]
     },
     "execution_count": 8,
     "metadata": {},
     "output_type": "execute_result"
    }
   ],
   "source": [
    "mc.shape"
   ]
  },
  {
   "cell_type": "markdown",
   "metadata": {},
   "source": [
    "we will take out midi files with less than 7 notes"
   ]
  },
  {
   "cell_type": "code",
   "execution_count": 9,
   "metadata": {
    "ExecuteTime": {
     "end_time": "2020-05-20T02:01:32.256610Z",
     "start_time": "2020-05-20T02:01:32.251465Z"
    }
   },
   "outputs": [],
   "source": [
    "mc.drop(mc[mc['Len_Sequence']<7].index, inplace = True)"
   ]
  },
  {
   "cell_type": "code",
   "execution_count": 10,
   "metadata": {
    "ExecuteTime": {
     "end_time": "2020-05-20T02:01:32.263442Z",
     "start_time": "2020-05-20T02:01:32.258289Z"
    }
   },
   "outputs": [
    {
     "data": {
      "text/plain": [
       "max    14611\n",
       "min        8\n",
       "Name: Len_Sequence, dtype: int64"
      ]
     },
     "execution_count": 10,
     "metadata": {},
     "output_type": "execute_result"
    }
   ],
   "source": [
    "mc.Len_Sequence.agg(['max','min'])"
   ]
  },
  {
   "cell_type": "code",
   "execution_count": 11,
   "metadata": {
    "ExecuteTime": {
     "end_time": "2020-05-20T02:01:32.268375Z",
     "start_time": "2020-05-20T02:01:32.264960Z"
    }
   },
   "outputs": [
    {
     "data": {
      "text/plain": [
       "(809, 4)"
      ]
     },
     "execution_count": 11,
     "metadata": {},
     "output_type": "execute_result"
    }
   ],
   "source": [
    "mc.shape"
   ]
  },
  {
   "cell_type": "markdown",
   "metadata": {},
   "source": [
    "**we will remove all special characters: {, [, ], ;, '}** "
   ]
  },
  {
   "cell_type": "code",
   "execution_count": 12,
   "metadata": {
    "ExecuteTime": {
     "end_time": "2020-05-20T02:01:32.272694Z",
     "start_time": "2020-05-20T02:01:32.270241Z"
    }
   },
   "outputs": [],
   "source": [
    "bad_chars = ['-', '[', ']', ';', \"'\", ':', '!', \"*\", \"'\"]"
   ]
  },
  {
   "cell_type": "code",
   "execution_count": 13,
   "metadata": {
    "ExecuteTime": {
     "end_time": "2020-05-20T02:01:32.350371Z",
     "start_time": "2020-05-20T02:01:32.274282Z"
    }
   },
   "outputs": [],
   "source": [
    "for i in bad_chars : \n",
    "    mc.Notes = mc.Notes.str.replace(i, \"\")"
   ]
  },
  {
   "cell_type": "code",
   "execution_count": 14,
   "metadata": {
    "ExecuteTime": {
     "end_time": "2020-05-20T02:01:32.356975Z",
     "start_time": "2020-05-20T02:01:32.352205Z"
    },
    "scrolled": true
   },
   "outputs": [
    {
     "data": {
      "text/plain": [
       "'E2, B2, B2, E3, B2, B2, E2, B2, E2, B2, E1, E2, B2, B2, E3, E3, B2, G2, E2, E2, B2, B2, E3, B2, B2, E2, E2, B2, B2, E2, E1, E2, B1, F2, E2, B2, E3, B2, E2, E1, B2, E1, E3, E2, B2, F2, E2, B1, B1, E2, E1, B1, E2, B2, E2, E2, C2, F2, C3, F3, C3, F#2, B1, B1, G2, G#2, C3, G2, G1, A2, B2, D3, G2, C2, D2, E2, G2, F#2, F2, F1, G2, G#2, C3, F2, B1, B2, F2, D2, E2, E3, B2, G2, C2, D2, E2, G2, F2, F2, G2, G#2, C3, B1, C3, B1, B1, B1, B1, E2, B2, E3, B2, E2, E2, E2, B2, C2, C2, F2, C2, G2, G#2, C2, C3, C2, B1, B1, C2, D2, F2, E2, E3, B2, G2, F2, A1, B1, E2, E2, F2, G2, B2, B1, B1, B1, B1, E2, B2, E2, B2, E1, E2, E1, B2, E1, E3, E2, B2, F2, E2, B2, E2, E1, B2, E2, B2, E2, E2, A1, B1, E2, B2, E3, B2, E2, B2, E2, E1, B2, E2, B2, E2, B2, E1, E2, E2, B2, B2, E2, E2, B2, C2, D2, E2, F2, C3, G#2, F2, B1, C3, G#2, B1, G2, G1, A2, B2, D3, G2, C2, C1, D2, E2, G2, C2, F2, F3, C3, G#2, B1, F1, F2, D2, B1, F1, E2, F2, G2, B2, C2, D2, E2, G2, F2, F1, G2, G#2, C3, F2, B1, B1, B1, B0, B1, E2, B2, G2, E2, E2, E2, C3, C3, G2, F2, C2, G2, G#2, C2, C3, C2, B1, F1, C2, C#2, F1, D2, E2, F2, G2, B2, F2, C2, C3, C2, B1, B1, E2, F2, G2, B2, B1, B1, B1, B2, F2, B1, E2, B2, E2, E1, B2, E2, B2, E2, B2, E1, E2, B2, E3, B2, E2, B2, E2, B1, B1, B0, B1, E2, B2, E2, E1, B2, E2, B2, B2, E3, B2, E2, B2, E2, B1, B1, E2, E1, B1, E2, B2, E2, E1, C2, D2, E2, F2, C2, G2, G#2, C2, C3, C2, B1, B2, C3, G#2, G2, D3, G3, D3, C#2, C2, G2, C3, G2, F#2, F2, F1, G2, G#2, C3, F2, B1, B2, F2, D2, E2, B1, B2, G2, E2, B1, C3, C2, E2, G2, F2, F1, G2, G#2, C3, F2, B1, B1, E2, B1, B1, E2, F2, G2, B2, E2, E2, B1, C2, C2, G2, F2, C2, C3, G#2, F2, C2, B1, C2, D2, F2, E2, B1, F2, G2, B1, B2, B1, F2, F2, C3, B1, B1, E2, F2, G2, B2, B1, B1, B1, D2, E2, B2, B2, E3, E2'"
      ]
     },
     "execution_count": 14,
     "metadata": {},
     "output_type": "execute_result"
    }
   ],
   "source": [
    "mc.Notes[0]"
   ]
  },
  {
   "cell_type": "markdown",
   "metadata": {},
   "source": [
    "#### now we will split each note "
   ]
  },
  {
   "cell_type": "code",
   "execution_count": 15,
   "metadata": {
    "ExecuteTime": {
     "end_time": "2020-05-20T02:01:32.455127Z",
     "start_time": "2020-05-20T02:01:32.359166Z"
    }
   },
   "outputs": [],
   "source": [
    "mc.Notes = mc.Notes.str.split(\", \")"
   ]
  },
  {
   "cell_type": "markdown",
   "metadata": {},
   "source": [
    "#### according to our knowledge the numbers represent the pitch of the note removing them will not hurt our prediction"
   ]
  },
  {
   "cell_type": "code",
   "execution_count": 16,
   "metadata": {
    "ExecuteTime": {
     "end_time": "2020-05-20T02:01:32.459848Z",
     "start_time": "2020-05-20T02:01:32.456839Z"
    }
   },
   "outputs": [],
   "source": [
    "def remove_digit(list):\n",
    "    remove_digits = str.maketrans('', '', digits) \n",
    "    new_list = [i.translate(remove_digits) for i in list] \n",
    "    return new_list"
   ]
  },
  {
   "cell_type": "code",
   "execution_count": 17,
   "metadata": {
    "ExecuteTime": {
     "end_time": "2020-05-20T02:01:32.665564Z",
     "start_time": "2020-05-20T02:01:32.461565Z"
    }
   },
   "outputs": [],
   "source": [
    "mc['New_Notes'] = mc.apply(lambda row: remove_digit(row.Notes), axis = 1)"
   ]
  },
  {
   "cell_type": "markdown",
   "metadata": {},
   "source": [
    "#### our next step is to show the frequency of the notes in the peace "
   ]
  },
  {
   "cell_type": "code",
   "execution_count": 18,
   "metadata": {
    "ExecuteTime": {
     "end_time": "2020-05-20T02:01:32.735638Z",
     "start_time": "2020-05-20T02:01:32.667609Z"
    }
   },
   "outputs": [],
   "source": [
    "mc['count_dict'] = mc.apply(lambda row: Counter(row.New_Notes), axis = 1)"
   ]
  },
  {
   "cell_type": "code",
   "execution_count": 19,
   "metadata": {
    "ExecuteTime": {
     "end_time": "2020-05-20T02:01:32.754629Z",
     "start_time": "2020-05-20T02:01:32.737605Z"
    },
    "scrolled": true
   },
   "outputs": [
    {
     "data": {
      "text/html": [
       "<div>\n",
       "<style scoped>\n",
       "    .dataframe tbody tr th:only-of-type {\n",
       "        vertical-align: middle;\n",
       "    }\n",
       "\n",
       "    .dataframe tbody tr th {\n",
       "        vertical-align: top;\n",
       "    }\n",
       "\n",
       "    .dataframe thead th {\n",
       "        text-align: right;\n",
       "    }\n",
       "</style>\n",
       "<table border=\"1\" class=\"dataframe\">\n",
       "  <thead>\n",
       "    <tr style=\"text-align: right;\">\n",
       "      <th></th>\n",
       "      <th>Notes</th>\n",
       "      <th>Len_Sequence</th>\n",
       "      <th>Unique_notes</th>\n",
       "      <th>len_Uni_Notes</th>\n",
       "      <th>New_Notes</th>\n",
       "      <th>count_dict</th>\n",
       "    </tr>\n",
       "    <tr>\n",
       "      <th>Name</th>\n",
       "      <th></th>\n",
       "      <th></th>\n",
       "      <th></th>\n",
       "      <th></th>\n",
       "      <th></th>\n",
       "      <th></th>\n",
       "    </tr>\n",
       "  </thead>\n",
       "  <tbody>\n",
       "    <tr>\n",
       "      <th>BreezeAndI.mid</th>\n",
       "      <td>[E2, B2, B2, E3, B2, B2, E2, B2, E2, B2, E1, E...</td>\n",
       "      <td>427</td>\n",
       "      <td>{'C3', 'F1', 'A2', 'B-0', 'E-1', 'E3', 'B1', '...</td>\n",
       "      <td>27</td>\n",
       "      <td>[E, B, B, E, B, B, E, B, E, B, E, E, B, B, E, ...</td>\n",
       "      <td>{'E': 113, 'B': 133, 'G': 38, 'F': 49, 'C': 54...</td>\n",
       "    </tr>\n",
       "    <tr>\n",
       "      <th>IfIHadYou.mid</th>\n",
       "      <td>[10.2.5, 10.2.5, 2.5.8, 2.5.8, 0.3.7, 0.3.7, 1...</td>\n",
       "      <td>204</td>\n",
       "      <td>{'7.10.2', '6.9.0.2', '9.10.0.2.4', '6.9.0', '...</td>\n",
       "      <td>37</td>\n",
       "      <td>[.., .., .., .., .., .., ..., .., ..., ..., .....</td>\n",
       "      <td>{'..': 105, '...': 91, '....': 4, '.': 2, 'A': 2}</td>\n",
       "    </tr>\n",
       "    <tr>\n",
       "      <th>IllBeSeeingYou.mid</th>\n",
       "      <td>[E2, E2, B2, B2, G2, D3, F2, F2, C3, C2, F2, F...</td>\n",
       "      <td>455</td>\n",
       "      <td>{'C3', 'F1', 'B-0', 'A2', 'E-1', 'D3', 'B1', '...</td>\n",
       "      <td>29</td>\n",
       "      <td>[E, E, B, B, G, D, F, F, C, C, F, F, F, C, G, ...</td>\n",
       "      <td>{'E': 50, 'B': 69, 'G': 64, 'D': 24, 'F': 96, ...</td>\n",
       "    </tr>\n",
       "    <tr>\n",
       "      <th>JustAGame.mid</th>\n",
       "      <td>[B3, 6.11, B1, E4, B1, F#4, B1, G4, 2.7, G1, A...</td>\n",
       "      <td>1572</td>\n",
       "      <td>{'C3', '9.2', 'A2', 'B4', 'E3', 'A3', 'D5', 'B...</td>\n",
       "      <td>39</td>\n",
       "      <td>[B, ., B, E, B, F#, B, G, ., G, A, ., A, G, A,...</td>\n",
       "      <td>{'B': 178, '.': 245, 'E': 433, 'F#': 49, 'G': ...</td>\n",
       "    </tr>\n",
       "    <tr>\n",
       "      <th>Unforgettable.mid</th>\n",
       "      <td>[G2, G1, G2, G1, G2, G2, G2, C#3, G2, G1, C#3,...</td>\n",
       "      <td>421</td>\n",
       "      <td>{'A0', 'C3', 'F1', 'A2', 'E-1', 'E3', 'G1', 'D...</td>\n",
       "      <td>28</td>\n",
       "      <td>[G, G, G, G, G, G, G, C#, G, G, C#, C, C, C, C...</td>\n",
       "      <td>{'G': 95, 'C#': 22, 'C': 87, 'A': 53, 'F': 27,...</td>\n",
       "    </tr>\n",
       "  </tbody>\n",
       "</table>\n",
       "</div>"
      ],
      "text/plain": [
       "                                                                Notes  \\\n",
       "Name                                                                    \n",
       "BreezeAndI.mid      [E2, B2, B2, E3, B2, B2, E2, B2, E2, B2, E1, E...   \n",
       "IfIHadYou.mid       [10.2.5, 10.2.5, 2.5.8, 2.5.8, 0.3.7, 0.3.7, 1...   \n",
       "IllBeSeeingYou.mid  [E2, E2, B2, B2, G2, D3, F2, F2, C3, C2, F2, F...   \n",
       "JustAGame.mid       [B3, 6.11, B1, E4, B1, F#4, B1, G4, 2.7, G1, A...   \n",
       "Unforgettable.mid   [G2, G1, G2, G1, G2, G2, G2, C#3, G2, G1, C#3,...   \n",
       "\n",
       "                    Len_Sequence  \\\n",
       "Name                               \n",
       "BreezeAndI.mid               427   \n",
       "IfIHadYou.mid                204   \n",
       "IllBeSeeingYou.mid           455   \n",
       "JustAGame.mid               1572   \n",
       "Unforgettable.mid            421   \n",
       "\n",
       "                                                         Unique_notes  \\\n",
       "Name                                                                    \n",
       "BreezeAndI.mid      {'C3', 'F1', 'A2', 'B-0', 'E-1', 'E3', 'B1', '...   \n",
       "IfIHadYou.mid       {'7.10.2', '6.9.0.2', '9.10.0.2.4', '6.9.0', '...   \n",
       "IllBeSeeingYou.mid  {'C3', 'F1', 'B-0', 'A2', 'E-1', 'D3', 'B1', '...   \n",
       "JustAGame.mid       {'C3', '9.2', 'A2', 'B4', 'E3', 'A3', 'D5', 'B...   \n",
       "Unforgettable.mid   {'A0', 'C3', 'F1', 'A2', 'E-1', 'E3', 'G1', 'D...   \n",
       "\n",
       "                    len_Uni_Notes  \\\n",
       "Name                                \n",
       "BreezeAndI.mid                 27   \n",
       "IfIHadYou.mid                  37   \n",
       "IllBeSeeingYou.mid             29   \n",
       "JustAGame.mid                  39   \n",
       "Unforgettable.mid              28   \n",
       "\n",
       "                                                            New_Notes  \\\n",
       "Name                                                                    \n",
       "BreezeAndI.mid      [E, B, B, E, B, B, E, B, E, B, E, E, B, B, E, ...   \n",
       "IfIHadYou.mid       [.., .., .., .., .., .., ..., .., ..., ..., .....   \n",
       "IllBeSeeingYou.mid  [E, E, B, B, G, D, F, F, C, C, F, F, F, C, G, ...   \n",
       "JustAGame.mid       [B, ., B, E, B, F#, B, G, ., G, A, ., A, G, A,...   \n",
       "Unforgettable.mid   [G, G, G, G, G, G, G, C#, G, G, C#, C, C, C, C...   \n",
       "\n",
       "                                                           count_dict  \n",
       "Name                                                                   \n",
       "BreezeAndI.mid      {'E': 113, 'B': 133, 'G': 38, 'F': 49, 'C': 54...  \n",
       "IfIHadYou.mid       {'..': 105, '...': 91, '....': 4, '.': 2, 'A': 2}  \n",
       "IllBeSeeingYou.mid  {'E': 50, 'B': 69, 'G': 64, 'D': 24, 'F': 96, ...  \n",
       "JustAGame.mid       {'B': 178, '.': 245, 'E': 433, 'F#': 49, 'G': ...  \n",
       "Unforgettable.mid   {'G': 95, 'C#': 22, 'C': 87, 'A': 53, 'F': 27,...  "
      ]
     },
     "execution_count": 19,
     "metadata": {},
     "output_type": "execute_result"
    }
   ],
   "source": [
    "mc.head()"
   ]
  },
  {
   "cell_type": "markdown",
   "metadata": {},
   "source": [
    "#### we have decided to present each note in a different column: \n",
    "#### For that we will need to construct a new sub DataFrame "
   ]
  },
  {
   "cell_type": "markdown",
   "metadata": {},
   "source": [
    "- Find unique notes:"
   ]
  },
  {
   "cell_type": "code",
   "execution_count": 20,
   "metadata": {
    "ExecuteTime": {
     "end_time": "2020-05-20T02:01:32.787286Z",
     "start_time": "2020-05-20T02:01:32.756013Z"
    }
   },
   "outputs": [],
   "source": [
    "first_dict = mc['count_dict'][0]\n",
    "for i in range(len(mc['count_dict'])):\n",
    "    first_dict.update(mc['count_dict'][i])\n",
    "    \n",
    "uniqueKyes = list(set(first_dict.keys()))\n",
    "sort_dict = sorted(uniqueKyes, reverse=True)\n",
    "uniq_list = sort_dict[:sort_dict.index('A')]\n",
    "uniq_list.append('A')"
   ]
  },
  {
   "cell_type": "code",
   "execution_count": 21,
   "metadata": {
    "ExecuteTime": {
     "end_time": "2020-05-20T02:01:32.791831Z",
     "start_time": "2020-05-20T02:01:32.789016Z"
    }
   },
   "outputs": [
    {
     "name": "stdout",
     "output_type": "stream",
     "text": [
      "['G#', 'G', 'F#', 'F', 'E', 'D', 'C#', 'C', 'B', 'A']\n"
     ]
    }
   ],
   "source": [
    "print(uniq_list)"
   ]
  },
  {
   "cell_type": "markdown",
   "metadata": {},
   "source": [
    "- now we constrect the new DataFrame with zero values"
   ]
  },
  {
   "cell_type": "code",
   "execution_count": 22,
   "metadata": {
    "ExecuteTime": {
     "end_time": "2020-05-20T02:01:32.803213Z",
     "start_time": "2020-05-20T02:01:32.799625Z"
    }
   },
   "outputs": [],
   "source": [
    "new_df = pd.DataFrame(0, index=np.arange(len(mc)), columns=uniq_list)"
   ]
  },
  {
   "cell_type": "code",
   "execution_count": 23,
   "metadata": {
    "ExecuteTime": {
     "end_time": "2020-05-20T02:01:32.819218Z",
     "start_time": "2020-05-20T02:01:32.807566Z"
    }
   },
   "outputs": [
    {
     "data": {
      "text/html": [
       "<div>\n",
       "<style scoped>\n",
       "    .dataframe tbody tr th:only-of-type {\n",
       "        vertical-align: middle;\n",
       "    }\n",
       "\n",
       "    .dataframe tbody tr th {\n",
       "        vertical-align: top;\n",
       "    }\n",
       "\n",
       "    .dataframe thead th {\n",
       "        text-align: right;\n",
       "    }\n",
       "</style>\n",
       "<table border=\"1\" class=\"dataframe\">\n",
       "  <thead>\n",
       "    <tr style=\"text-align: right;\">\n",
       "      <th></th>\n",
       "      <th>G#</th>\n",
       "      <th>G</th>\n",
       "      <th>F#</th>\n",
       "      <th>F</th>\n",
       "      <th>E</th>\n",
       "      <th>D</th>\n",
       "      <th>C#</th>\n",
       "      <th>C</th>\n",
       "      <th>B</th>\n",
       "      <th>A</th>\n",
       "    </tr>\n",
       "  </thead>\n",
       "  <tbody>\n",
       "    <tr>\n",
       "      <th>0</th>\n",
       "      <td>0</td>\n",
       "      <td>0</td>\n",
       "      <td>0</td>\n",
       "      <td>0</td>\n",
       "      <td>0</td>\n",
       "      <td>0</td>\n",
       "      <td>0</td>\n",
       "      <td>0</td>\n",
       "      <td>0</td>\n",
       "      <td>0</td>\n",
       "    </tr>\n",
       "    <tr>\n",
       "      <th>1</th>\n",
       "      <td>0</td>\n",
       "      <td>0</td>\n",
       "      <td>0</td>\n",
       "      <td>0</td>\n",
       "      <td>0</td>\n",
       "      <td>0</td>\n",
       "      <td>0</td>\n",
       "      <td>0</td>\n",
       "      <td>0</td>\n",
       "      <td>0</td>\n",
       "    </tr>\n",
       "    <tr>\n",
       "      <th>2</th>\n",
       "      <td>0</td>\n",
       "      <td>0</td>\n",
       "      <td>0</td>\n",
       "      <td>0</td>\n",
       "      <td>0</td>\n",
       "      <td>0</td>\n",
       "      <td>0</td>\n",
       "      <td>0</td>\n",
       "      <td>0</td>\n",
       "      <td>0</td>\n",
       "    </tr>\n",
       "    <tr>\n",
       "      <th>3</th>\n",
       "      <td>0</td>\n",
       "      <td>0</td>\n",
       "      <td>0</td>\n",
       "      <td>0</td>\n",
       "      <td>0</td>\n",
       "      <td>0</td>\n",
       "      <td>0</td>\n",
       "      <td>0</td>\n",
       "      <td>0</td>\n",
       "      <td>0</td>\n",
       "    </tr>\n",
       "    <tr>\n",
       "      <th>4</th>\n",
       "      <td>0</td>\n",
       "      <td>0</td>\n",
       "      <td>0</td>\n",
       "      <td>0</td>\n",
       "      <td>0</td>\n",
       "      <td>0</td>\n",
       "      <td>0</td>\n",
       "      <td>0</td>\n",
       "      <td>0</td>\n",
       "      <td>0</td>\n",
       "    </tr>\n",
       "    <tr>\n",
       "      <th>...</th>\n",
       "      <td>...</td>\n",
       "      <td>...</td>\n",
       "      <td>...</td>\n",
       "      <td>...</td>\n",
       "      <td>...</td>\n",
       "      <td>...</td>\n",
       "      <td>...</td>\n",
       "      <td>...</td>\n",
       "      <td>...</td>\n",
       "      <td>...</td>\n",
       "    </tr>\n",
       "    <tr>\n",
       "      <th>804</th>\n",
       "      <td>0</td>\n",
       "      <td>0</td>\n",
       "      <td>0</td>\n",
       "      <td>0</td>\n",
       "      <td>0</td>\n",
       "      <td>0</td>\n",
       "      <td>0</td>\n",
       "      <td>0</td>\n",
       "      <td>0</td>\n",
       "      <td>0</td>\n",
       "    </tr>\n",
       "    <tr>\n",
       "      <th>805</th>\n",
       "      <td>0</td>\n",
       "      <td>0</td>\n",
       "      <td>0</td>\n",
       "      <td>0</td>\n",
       "      <td>0</td>\n",
       "      <td>0</td>\n",
       "      <td>0</td>\n",
       "      <td>0</td>\n",
       "      <td>0</td>\n",
       "      <td>0</td>\n",
       "    </tr>\n",
       "    <tr>\n",
       "      <th>806</th>\n",
       "      <td>0</td>\n",
       "      <td>0</td>\n",
       "      <td>0</td>\n",
       "      <td>0</td>\n",
       "      <td>0</td>\n",
       "      <td>0</td>\n",
       "      <td>0</td>\n",
       "      <td>0</td>\n",
       "      <td>0</td>\n",
       "      <td>0</td>\n",
       "    </tr>\n",
       "    <tr>\n",
       "      <th>807</th>\n",
       "      <td>0</td>\n",
       "      <td>0</td>\n",
       "      <td>0</td>\n",
       "      <td>0</td>\n",
       "      <td>0</td>\n",
       "      <td>0</td>\n",
       "      <td>0</td>\n",
       "      <td>0</td>\n",
       "      <td>0</td>\n",
       "      <td>0</td>\n",
       "    </tr>\n",
       "    <tr>\n",
       "      <th>808</th>\n",
       "      <td>0</td>\n",
       "      <td>0</td>\n",
       "      <td>0</td>\n",
       "      <td>0</td>\n",
       "      <td>0</td>\n",
       "      <td>0</td>\n",
       "      <td>0</td>\n",
       "      <td>0</td>\n",
       "      <td>0</td>\n",
       "      <td>0</td>\n",
       "    </tr>\n",
       "  </tbody>\n",
       "</table>\n",
       "<p>809 rows × 10 columns</p>\n",
       "</div>"
      ],
      "text/plain": [
       "     G#  G  F#  F  E  D  C#  C  B  A\n",
       "0     0  0   0  0  0  0   0  0  0  0\n",
       "1     0  0   0  0  0  0   0  0  0  0\n",
       "2     0  0   0  0  0  0   0  0  0  0\n",
       "3     0  0   0  0  0  0   0  0  0  0\n",
       "4     0  0   0  0  0  0   0  0  0  0\n",
       "..   .. ..  .. .. .. ..  .. .. .. ..\n",
       "804   0  0   0  0  0  0   0  0  0  0\n",
       "805   0  0   0  0  0  0   0  0  0  0\n",
       "806   0  0   0  0  0  0   0  0  0  0\n",
       "807   0  0   0  0  0  0   0  0  0  0\n",
       "808   0  0   0  0  0  0   0  0  0  0\n",
       "\n",
       "[809 rows x 10 columns]"
      ]
     },
     "execution_count": 23,
     "metadata": {},
     "output_type": "execute_result"
    }
   ],
   "source": [
    "new_df"
   ]
  },
  {
   "cell_type": "markdown",
   "metadata": {},
   "source": [
    "- now we will introduce the values according to their frequency"
   ]
  },
  {
   "cell_type": "code",
   "execution_count": 24,
   "metadata": {
    "ExecuteTime": {
     "end_time": "2020-05-20T02:01:33.404633Z",
     "start_time": "2020-05-20T02:01:32.820888Z"
    }
   },
   "outputs": [],
   "source": [
    "for i in new_df.columns:\n",
    "    for j in range(len(new_df)):\n",
    "        for k, v in (dict(mc['count_dict'][j])).items():\n",
    "            if k == str(i):\n",
    "                new_df[i][j] = v\n",
    "        "
   ]
  },
  {
   "cell_type": "code",
   "execution_count": 25,
   "metadata": {
    "ExecuteTime": {
     "end_time": "2020-05-20T02:01:33.417756Z",
     "start_time": "2020-05-20T02:01:33.406046Z"
    }
   },
   "outputs": [
    {
     "data": {
      "text/html": [
       "<div>\n",
       "<style scoped>\n",
       "    .dataframe tbody tr th:only-of-type {\n",
       "        vertical-align: middle;\n",
       "    }\n",
       "\n",
       "    .dataframe tbody tr th {\n",
       "        vertical-align: top;\n",
       "    }\n",
       "\n",
       "    .dataframe thead th {\n",
       "        text-align: right;\n",
       "    }\n",
       "</style>\n",
       "<table border=\"1\" class=\"dataframe\">\n",
       "  <thead>\n",
       "    <tr style=\"text-align: right;\">\n",
       "      <th></th>\n",
       "      <th>G#</th>\n",
       "      <th>G</th>\n",
       "      <th>F#</th>\n",
       "      <th>F</th>\n",
       "      <th>E</th>\n",
       "      <th>D</th>\n",
       "      <th>C#</th>\n",
       "      <th>C</th>\n",
       "      <th>B</th>\n",
       "      <th>A</th>\n",
       "    </tr>\n",
       "  </thead>\n",
       "  <tbody>\n",
       "    <tr>\n",
       "      <th>0</th>\n",
       "      <td>37906</td>\n",
       "      <td>56226</td>\n",
       "      <td>67833</td>\n",
       "      <td>36485</td>\n",
       "      <td>105036</td>\n",
       "      <td>61522</td>\n",
       "      <td>27652</td>\n",
       "      <td>57316</td>\n",
       "      <td>86221</td>\n",
       "      <td>58200</td>\n",
       "    </tr>\n",
       "    <tr>\n",
       "      <th>1</th>\n",
       "      <td>0</td>\n",
       "      <td>0</td>\n",
       "      <td>0</td>\n",
       "      <td>0</td>\n",
       "      <td>0</td>\n",
       "      <td>0</td>\n",
       "      <td>0</td>\n",
       "      <td>0</td>\n",
       "      <td>0</td>\n",
       "      <td>2</td>\n",
       "    </tr>\n",
       "    <tr>\n",
       "      <th>2</th>\n",
       "      <td>24</td>\n",
       "      <td>64</td>\n",
       "      <td>14</td>\n",
       "      <td>96</td>\n",
       "      <td>50</td>\n",
       "      <td>24</td>\n",
       "      <td>6</td>\n",
       "      <td>100</td>\n",
       "      <td>69</td>\n",
       "      <td>8</td>\n",
       "    </tr>\n",
       "    <tr>\n",
       "      <th>3</th>\n",
       "      <td>2</td>\n",
       "      <td>151</td>\n",
       "      <td>49</td>\n",
       "      <td>0</td>\n",
       "      <td>433</td>\n",
       "      <td>265</td>\n",
       "      <td>4</td>\n",
       "      <td>60</td>\n",
       "      <td>178</td>\n",
       "      <td>129</td>\n",
       "    </tr>\n",
       "    <tr>\n",
       "      <th>4</th>\n",
       "      <td>8</td>\n",
       "      <td>95</td>\n",
       "      <td>13</td>\n",
       "      <td>27</td>\n",
       "      <td>46</td>\n",
       "      <td>51</td>\n",
       "      <td>22</td>\n",
       "      <td>87</td>\n",
       "      <td>19</td>\n",
       "      <td>53</td>\n",
       "    </tr>\n",
       "    <tr>\n",
       "      <th>...</th>\n",
       "      <td>...</td>\n",
       "      <td>...</td>\n",
       "      <td>...</td>\n",
       "      <td>...</td>\n",
       "      <td>...</td>\n",
       "      <td>...</td>\n",
       "      <td>...</td>\n",
       "      <td>...</td>\n",
       "      <td>...</td>\n",
       "      <td>...</td>\n",
       "    </tr>\n",
       "    <tr>\n",
       "      <th>804</th>\n",
       "      <td>0</td>\n",
       "      <td>50</td>\n",
       "      <td>7</td>\n",
       "      <td>66</td>\n",
       "      <td>17</td>\n",
       "      <td>21</td>\n",
       "      <td>13</td>\n",
       "      <td>49</td>\n",
       "      <td>53</td>\n",
       "      <td>4</td>\n",
       "    </tr>\n",
       "    <tr>\n",
       "      <th>805</th>\n",
       "      <td>0</td>\n",
       "      <td>93</td>\n",
       "      <td>29</td>\n",
       "      <td>45</td>\n",
       "      <td>15</td>\n",
       "      <td>53</td>\n",
       "      <td>12</td>\n",
       "      <td>103</td>\n",
       "      <td>39</td>\n",
       "      <td>48</td>\n",
       "    </tr>\n",
       "    <tr>\n",
       "      <th>806</th>\n",
       "      <td>2</td>\n",
       "      <td>20</td>\n",
       "      <td>0</td>\n",
       "      <td>2</td>\n",
       "      <td>10</td>\n",
       "      <td>14</td>\n",
       "      <td>0</td>\n",
       "      <td>10</td>\n",
       "      <td>6</td>\n",
       "      <td>0</td>\n",
       "    </tr>\n",
       "    <tr>\n",
       "      <th>807</th>\n",
       "      <td>12</td>\n",
       "      <td>0</td>\n",
       "      <td>98</td>\n",
       "      <td>4</td>\n",
       "      <td>88</td>\n",
       "      <td>9</td>\n",
       "      <td>100</td>\n",
       "      <td>0</td>\n",
       "      <td>50</td>\n",
       "      <td>195</td>\n",
       "    </tr>\n",
       "    <tr>\n",
       "      <th>808</th>\n",
       "      <td>37</td>\n",
       "      <td>245</td>\n",
       "      <td>189</td>\n",
       "      <td>336</td>\n",
       "      <td>379</td>\n",
       "      <td>269</td>\n",
       "      <td>95</td>\n",
       "      <td>254</td>\n",
       "      <td>445</td>\n",
       "      <td>456</td>\n",
       "    </tr>\n",
       "  </tbody>\n",
       "</table>\n",
       "<p>809 rows × 10 columns</p>\n",
       "</div>"
      ],
      "text/plain": [
       "        G#      G     F#      F       E      D     C#      C      B      A\n",
       "0    37906  56226  67833  36485  105036  61522  27652  57316  86221  58200\n",
       "1        0      0      0      0       0      0      0      0      0      2\n",
       "2       24     64     14     96      50     24      6    100     69      8\n",
       "3        2    151     49      0     433    265      4     60    178    129\n",
       "4        8     95     13     27      46     51     22     87     19     53\n",
       "..     ...    ...    ...    ...     ...    ...    ...    ...    ...    ...\n",
       "804      0     50      7     66      17     21     13     49     53      4\n",
       "805      0     93     29     45      15     53     12    103     39     48\n",
       "806      2     20      0      2      10     14      0     10      6      0\n",
       "807     12      0     98      4      88      9    100      0     50    195\n",
       "808     37    245    189    336     379    269     95    254    445    456\n",
       "\n",
       "[809 rows x 10 columns]"
      ]
     },
     "execution_count": 25,
     "metadata": {},
     "output_type": "execute_result"
    }
   ],
   "source": [
    "new_df"
   ]
  },
  {
   "cell_type": "markdown",
   "metadata": {},
   "source": [
    "#### our next step is to intreduce new columns:\n",
    "- Our Target variable\n",
    "- The first and last notes of each piece (after the removle of the real last note)\n",
    "- 10 last notes "
   ]
  },
  {
   "cell_type": "code",
   "execution_count": 26,
   "metadata": {
    "ExecuteTime": {
     "end_time": "2020-05-20T02:01:33.443440Z",
     "start_time": "2020-05-20T02:01:33.420191Z"
    }
   },
   "outputs": [],
   "source": [
    "new_df['First'] = (mc.apply(lambda row: row.New_Notes[0], axis = 1)).to_numpy()"
   ]
  },
  {
   "cell_type": "code",
   "execution_count": 27,
   "metadata": {
    "ExecuteTime": {
     "end_time": "2020-05-20T02:01:33.471560Z",
     "start_time": "2020-05-20T02:01:33.445234Z"
    }
   },
   "outputs": [],
   "source": [
    "new_df['Target'] = (mc.apply(lambda row: row.New_Notes[-1], axis = 1)).to_numpy()"
   ]
  },
  {
   "cell_type": "code",
   "execution_count": 28,
   "metadata": {
    "ExecuteTime": {
     "end_time": "2020-05-20T02:01:33.496822Z",
     "start_time": "2020-05-20T02:01:33.473594Z"
    }
   },
   "outputs": [],
   "source": [
    "new_df['last'] = (mc.apply(lambda row: row.New_Notes[-1], axis = 1)).to_numpy()"
   ]
  },
  {
   "cell_type": "code",
   "execution_count": 29,
   "metadata": {
    "ExecuteTime": {
     "end_time": "2020-05-20T02:01:33.536989Z",
     "start_time": "2020-05-20T02:01:33.498484Z"
    }
   },
   "outputs": [],
   "source": [
    "new_df['10_Notes'] = (mc.apply(lambda row: row.New_Notes[-10:], axis = 1)).to_numpy()"
   ]
  },
  {
   "cell_type": "code",
   "execution_count": 30,
   "metadata": {
    "ExecuteTime": {
     "end_time": "2020-05-20T02:01:33.550150Z",
     "start_time": "2020-05-20T02:01:33.538782Z"
    },
    "scrolled": false
   },
   "outputs": [
    {
     "data": {
      "text/html": [
       "<div>\n",
       "<style scoped>\n",
       "    .dataframe tbody tr th:only-of-type {\n",
       "        vertical-align: middle;\n",
       "    }\n",
       "\n",
       "    .dataframe tbody tr th {\n",
       "        vertical-align: top;\n",
       "    }\n",
       "\n",
       "    .dataframe thead th {\n",
       "        text-align: right;\n",
       "    }\n",
       "</style>\n",
       "<table border=\"1\" class=\"dataframe\">\n",
       "  <thead>\n",
       "    <tr style=\"text-align: right;\">\n",
       "      <th></th>\n",
       "      <th>G#</th>\n",
       "      <th>G</th>\n",
       "      <th>F#</th>\n",
       "      <th>F</th>\n",
       "      <th>E</th>\n",
       "      <th>D</th>\n",
       "      <th>C#</th>\n",
       "      <th>C</th>\n",
       "      <th>B</th>\n",
       "      <th>A</th>\n",
       "      <th>First</th>\n",
       "      <th>Target</th>\n",
       "      <th>last</th>\n",
       "      <th>10_Notes</th>\n",
       "    </tr>\n",
       "  </thead>\n",
       "  <tbody>\n",
       "    <tr>\n",
       "      <th>0</th>\n",
       "      <td>37906</td>\n",
       "      <td>56226</td>\n",
       "      <td>67833</td>\n",
       "      <td>36485</td>\n",
       "      <td>105036</td>\n",
       "      <td>61522</td>\n",
       "      <td>27652</td>\n",
       "      <td>57316</td>\n",
       "      <td>86221</td>\n",
       "      <td>58200</td>\n",
       "      <td>E</td>\n",
       "      <td>E</td>\n",
       "      <td>E</td>\n",
       "      <td>[B, B, B, B, D, E, B, B, E, E]</td>\n",
       "    </tr>\n",
       "    <tr>\n",
       "      <th>1</th>\n",
       "      <td>0</td>\n",
       "      <td>0</td>\n",
       "      <td>0</td>\n",
       "      <td>0</td>\n",
       "      <td>0</td>\n",
       "      <td>0</td>\n",
       "      <td>0</td>\n",
       "      <td>0</td>\n",
       "      <td>0</td>\n",
       "      <td>2</td>\n",
       "      <td>..</td>\n",
       "      <td>..</td>\n",
       "      <td>..</td>\n",
       "      <td>[..., .., .., ..., ..., .., ..., ...., .., ..]</td>\n",
       "    </tr>\n",
       "  </tbody>\n",
       "</table>\n",
       "</div>"
      ],
      "text/plain": [
       "      G#      G     F#      F       E      D     C#      C      B      A  \\\n",
       "0  37906  56226  67833  36485  105036  61522  27652  57316  86221  58200   \n",
       "1      0      0      0      0       0      0      0      0      0      2   \n",
       "\n",
       "  First Target last                                        10_Notes  \n",
       "0     E      E    E                  [B, B, B, B, D, E, B, B, E, E]  \n",
       "1    ..     ..   ..  [..., .., .., ..., ..., .., ..., ...., .., ..]  "
      ]
     },
     "execution_count": 30,
     "metadata": {},
     "output_type": "execute_result"
    }
   ],
   "source": [
    "new_df.head(2)"
   ]
  },
  {
   "cell_type": "code",
   "execution_count": 31,
   "metadata": {
    "ExecuteTime": {
     "end_time": "2020-05-20T02:01:33.556607Z",
     "start_time": "2020-05-20T02:01:33.551788Z"
    }
   },
   "outputs": [],
   "source": [
    "new_df=new_df[new_df['First'].str.contains('[A-Za]')]"
   ]
  },
  {
   "cell_type": "code",
   "execution_count": 32,
   "metadata": {
    "ExecuteTime": {
     "end_time": "2020-05-20T02:01:33.561857Z",
     "start_time": "2020-05-20T02:01:33.558029Z"
    }
   },
   "outputs": [],
   "source": [
    "new_df=new_df[new_df['Target'].str.contains('[A-Za]')]"
   ]
  },
  {
   "cell_type": "code",
   "execution_count": 33,
   "metadata": {
    "ExecuteTime": {
     "end_time": "2020-05-20T02:01:33.566930Z",
     "start_time": "2020-05-20T02:01:33.563252Z"
    }
   },
   "outputs": [],
   "source": [
    "new_df=new_df[new_df['last'].str.contains('[A-Za]')]"
   ]
  },
  {
   "cell_type": "code",
   "execution_count": 34,
   "metadata": {
    "ExecuteTime": {
     "end_time": "2020-05-20T02:01:33.571217Z",
     "start_time": "2020-05-20T02:01:33.568385Z"
    }
   },
   "outputs": [
    {
     "data": {
      "text/plain": [
       "(498, 14)"
      ]
     },
     "execution_count": 34,
     "metadata": {},
     "output_type": "execute_result"
    }
   ],
   "source": [
    "new_df.shape"
   ]
  },
  {
   "cell_type": "markdown",
   "metadata": {},
   "source": [
    "### This step reduce our number of samples by 300 samples"
   ]
  },
  {
   "cell_type": "code",
   "execution_count": 48,
   "metadata": {
    "ExecuteTime": {
     "end_time": "2020-05-20T02:02:47.643653Z",
     "start_time": "2020-05-20T02:02:47.631568Z"
    }
   },
   "outputs": [
    {
     "data": {
      "text/html": [
       "<div>\n",
       "<style scoped>\n",
       "    .dataframe tbody tr th:only-of-type {\n",
       "        vertical-align: middle;\n",
       "    }\n",
       "\n",
       "    .dataframe tbody tr th {\n",
       "        vertical-align: top;\n",
       "    }\n",
       "\n",
       "    .dataframe thead th {\n",
       "        text-align: right;\n",
       "    }\n",
       "</style>\n",
       "<table border=\"1\" class=\"dataframe\">\n",
       "  <thead>\n",
       "    <tr style=\"text-align: right;\">\n",
       "      <th></th>\n",
       "      <th>G#</th>\n",
       "      <th>G</th>\n",
       "      <th>F#</th>\n",
       "      <th>F</th>\n",
       "      <th>E</th>\n",
       "      <th>D</th>\n",
       "      <th>C#</th>\n",
       "      <th>C</th>\n",
       "      <th>B</th>\n",
       "      <th>A</th>\n",
       "      <th>First</th>\n",
       "      <th>Target</th>\n",
       "      <th>last</th>\n",
       "      <th>10_Notes</th>\n",
       "    </tr>\n",
       "  </thead>\n",
       "  <tbody>\n",
       "    <tr>\n",
       "      <th>0</th>\n",
       "      <td>37906</td>\n",
       "      <td>56226</td>\n",
       "      <td>67833</td>\n",
       "      <td>36485</td>\n",
       "      <td>105036</td>\n",
       "      <td>61522</td>\n",
       "      <td>27652</td>\n",
       "      <td>57316</td>\n",
       "      <td>86221</td>\n",
       "      <td>58200</td>\n",
       "      <td>E</td>\n",
       "      <td>E</td>\n",
       "      <td>E</td>\n",
       "      <td>[B, B, B, B, D, E, B, B, E, E]</td>\n",
       "    </tr>\n",
       "    <tr>\n",
       "      <th>2</th>\n",
       "      <td>24</td>\n",
       "      <td>64</td>\n",
       "      <td>14</td>\n",
       "      <td>96</td>\n",
       "      <td>50</td>\n",
       "      <td>24</td>\n",
       "      <td>6</td>\n",
       "      <td>100</td>\n",
       "      <td>69</td>\n",
       "      <td>8</td>\n",
       "      <td>E</td>\n",
       "      <td>E</td>\n",
       "      <td>E</td>\n",
       "      <td>[B, F, E, E, G, G#, A, B, B, E]</td>\n",
       "    </tr>\n",
       "    <tr>\n",
       "      <th>3</th>\n",
       "      <td>2</td>\n",
       "      <td>151</td>\n",
       "      <td>49</td>\n",
       "      <td>0</td>\n",
       "      <td>433</td>\n",
       "      <td>265</td>\n",
       "      <td>4</td>\n",
       "      <td>60</td>\n",
       "      <td>178</td>\n",
       "      <td>129</td>\n",
       "      <td>B</td>\n",
       "      <td>E</td>\n",
       "      <td>E</td>\n",
       "      <td>[., A, B, A, C, A, B, ., ., E]</td>\n",
       "    </tr>\n",
       "    <tr>\n",
       "      <th>4</th>\n",
       "      <td>8</td>\n",
       "      <td>95</td>\n",
       "      <td>13</td>\n",
       "      <td>27</td>\n",
       "      <td>46</td>\n",
       "      <td>51</td>\n",
       "      <td>22</td>\n",
       "      <td>87</td>\n",
       "      <td>19</td>\n",
       "      <td>53</td>\n",
       "      <td>G</td>\n",
       "      <td>C</td>\n",
       "      <td>C</td>\n",
       "      <td>[C, G, C, C, C, C, G, G, C, C]</td>\n",
       "    </tr>\n",
       "    <tr>\n",
       "      <th>5</th>\n",
       "      <td>7</td>\n",
       "      <td>81</td>\n",
       "      <td>15</td>\n",
       "      <td>32</td>\n",
       "      <td>55</td>\n",
       "      <td>52</td>\n",
       "      <td>7</td>\n",
       "      <td>58</td>\n",
       "      <td>35</td>\n",
       "      <td>50</td>\n",
       "      <td>G</td>\n",
       "      <td>C</td>\n",
       "      <td>C</td>\n",
       "      <td>[E, D, G, G, C, E, F, F#, G, C]</td>\n",
       "    </tr>\n",
       "  </tbody>\n",
       "</table>\n",
       "</div>"
      ],
      "text/plain": [
       "      G#      G     F#      F       E      D     C#      C      B      A  \\\n",
       "0  37906  56226  67833  36485  105036  61522  27652  57316  86221  58200   \n",
       "2     24     64     14     96      50     24      6    100     69      8   \n",
       "3      2    151     49      0     433    265      4     60    178    129   \n",
       "4      8     95     13     27      46     51     22     87     19     53   \n",
       "5      7     81     15     32      55     52      7     58     35     50   \n",
       "\n",
       "  First Target last                         10_Notes  \n",
       "0     E      E    E   [B, B, B, B, D, E, B, B, E, E]  \n",
       "2     E      E    E  [B, F, E, E, G, G#, A, B, B, E]  \n",
       "3     B      E    E   [., A, B, A, C, A, B, ., ., E]  \n",
       "4     G      C    C   [C, G, C, C, C, C, G, G, C, C]  \n",
       "5     G      C    C  [E, D, G, G, C, E, F, F#, G, C]  "
      ]
     },
     "execution_count": 48,
     "metadata": {},
     "output_type": "execute_result"
    }
   ],
   "source": [
    "new_df.head()"
   ]
  },
  {
   "cell_type": "markdown",
   "metadata": {},
   "source": [
    "### Now we will splite the Data to Train and Test"
   ]
  },
  {
   "cell_type": "code",
   "execution_count": 36,
   "metadata": {
    "ExecuteTime": {
     "end_time": "2020-05-20T02:01:33.597417Z",
     "start_time": "2020-05-20T02:01:33.594087Z"
    }
   },
   "outputs": [],
   "source": [
    "y = new_df['Target'] \n",
    "X = new_df.loc[:, new_df.columns != 'Target']"
   ]
  },
  {
   "cell_type": "code",
   "execution_count": 37,
   "metadata": {
    "ExecuteTime": {
     "end_time": "2020-05-20T02:01:33.604452Z",
     "start_time": "2020-05-20T02:01:33.599151Z"
    }
   },
   "outputs": [],
   "source": [
    "X_train, X_test, y_train, y_test = train_test_split(X, y, test_size=0.2, \\\n",
    "                                                    random_state=42)"
   ]
  },
  {
   "cell_type": "markdown",
   "metadata": {},
   "source": [
    "### After the formation of our preliminary Data Frame, we will conduct a simple feature analysis"
   ]
  },
  {
   "cell_type": "code",
   "execution_count": 38,
   "metadata": {
    "ExecuteTime": {
     "end_time": "2020-05-20T02:01:33.649625Z",
     "start_time": "2020-05-20T02:01:33.606059Z"
    }
   },
   "outputs": [
    {
     "data": {
      "text/html": [
       "<div>\n",
       "<style scoped>\n",
       "    .dataframe tbody tr th:only-of-type {\n",
       "        vertical-align: middle;\n",
       "    }\n",
       "\n",
       "    .dataframe tbody tr th {\n",
       "        vertical-align: top;\n",
       "    }\n",
       "\n",
       "    .dataframe thead th {\n",
       "        text-align: right;\n",
       "    }\n",
       "</style>\n",
       "<table border=\"1\" class=\"dataframe\">\n",
       "  <thead>\n",
       "    <tr style=\"text-align: right;\">\n",
       "      <th></th>\n",
       "      <th>G#</th>\n",
       "      <th>G</th>\n",
       "      <th>F#</th>\n",
       "      <th>F</th>\n",
       "      <th>E</th>\n",
       "      <th>D</th>\n",
       "      <th>C#</th>\n",
       "      <th>C</th>\n",
       "      <th>B</th>\n",
       "      <th>A</th>\n",
       "    </tr>\n",
       "  </thead>\n",
       "  <tbody>\n",
       "    <tr>\n",
       "      <th>count</th>\n",
       "      <td>398.000000</td>\n",
       "      <td>398.000000</td>\n",
       "      <td>398.000000</td>\n",
       "      <td>398.000000</td>\n",
       "      <td>398.000000</td>\n",
       "      <td>398.000000</td>\n",
       "      <td>398.000000</td>\n",
       "      <td>398.000000</td>\n",
       "      <td>398.000000</td>\n",
       "      <td>398.000000</td>\n",
       "    </tr>\n",
       "    <tr>\n",
       "      <th>mean</th>\n",
       "      <td>42.268844</td>\n",
       "      <td>59.718593</td>\n",
       "      <td>70.175879</td>\n",
       "      <td>39.962312</td>\n",
       "      <td>110.537688</td>\n",
       "      <td>63.964824</td>\n",
       "      <td>31.412060</td>\n",
       "      <td>60.987437</td>\n",
       "      <td>89.125628</td>\n",
       "      <td>65.688442</td>\n",
       "    </tr>\n",
       "    <tr>\n",
       "      <th>std</th>\n",
       "      <td>110.713421</td>\n",
       "      <td>76.220952</td>\n",
       "      <td>174.669776</td>\n",
       "      <td>52.488656</td>\n",
       "      <td>157.237222</td>\n",
       "      <td>90.307668</td>\n",
       "      <td>56.863583</td>\n",
       "      <td>76.954678</td>\n",
       "      <td>107.792759</td>\n",
       "      <td>95.308241</td>\n",
       "    </tr>\n",
       "    <tr>\n",
       "      <th>min</th>\n",
       "      <td>0.000000</td>\n",
       "      <td>0.000000</td>\n",
       "      <td>0.000000</td>\n",
       "      <td>0.000000</td>\n",
       "      <td>0.000000</td>\n",
       "      <td>0.000000</td>\n",
       "      <td>0.000000</td>\n",
       "      <td>0.000000</td>\n",
       "      <td>0.000000</td>\n",
       "      <td>0.000000</td>\n",
       "    </tr>\n",
       "    <tr>\n",
       "      <th>25%</th>\n",
       "      <td>1.000000</td>\n",
       "      <td>12.250000</td>\n",
       "      <td>5.000000</td>\n",
       "      <td>3.000000</td>\n",
       "      <td>33.000000</td>\n",
       "      <td>12.250000</td>\n",
       "      <td>2.000000</td>\n",
       "      <td>10.000000</td>\n",
       "      <td>28.000000</td>\n",
       "      <td>12.000000</td>\n",
       "    </tr>\n",
       "    <tr>\n",
       "      <th>50%</th>\n",
       "      <td>12.000000</td>\n",
       "      <td>40.000000</td>\n",
       "      <td>21.000000</td>\n",
       "      <td>20.500000</td>\n",
       "      <td>67.000000</td>\n",
       "      <td>39.000000</td>\n",
       "      <td>11.500000</td>\n",
       "      <td>38.000000</td>\n",
       "      <td>57.000000</td>\n",
       "      <td>42.000000</td>\n",
       "    </tr>\n",
       "    <tr>\n",
       "      <th>75%</th>\n",
       "      <td>39.000000</td>\n",
       "      <td>80.000000</td>\n",
       "      <td>56.000000</td>\n",
       "      <td>58.750000</td>\n",
       "      <td>131.000000</td>\n",
       "      <td>66.000000</td>\n",
       "      <td>35.750000</td>\n",
       "      <td>83.000000</td>\n",
       "      <td>107.000000</td>\n",
       "      <td>78.750000</td>\n",
       "    </tr>\n",
       "    <tr>\n",
       "      <th>max</th>\n",
       "      <td>1194.000000</td>\n",
       "      <td>863.000000</td>\n",
       "      <td>1538.000000</td>\n",
       "      <td>352.000000</td>\n",
       "      <td>1652.000000</td>\n",
       "      <td>676.000000</td>\n",
       "      <td>486.000000</td>\n",
       "      <td>523.000000</td>\n",
       "      <td>996.000000</td>\n",
       "      <td>816.000000</td>\n",
       "    </tr>\n",
       "  </tbody>\n",
       "</table>\n",
       "</div>"
      ],
      "text/plain": [
       "                G#           G           F#           F            E  \\\n",
       "count   398.000000  398.000000   398.000000  398.000000   398.000000   \n",
       "mean     42.268844   59.718593    70.175879   39.962312   110.537688   \n",
       "std     110.713421   76.220952   174.669776   52.488656   157.237222   \n",
       "min       0.000000    0.000000     0.000000    0.000000     0.000000   \n",
       "25%       1.000000   12.250000     5.000000    3.000000    33.000000   \n",
       "50%      12.000000   40.000000    21.000000   20.500000    67.000000   \n",
       "75%      39.000000   80.000000    56.000000   58.750000   131.000000   \n",
       "max    1194.000000  863.000000  1538.000000  352.000000  1652.000000   \n",
       "\n",
       "                D          C#           C           B           A  \n",
       "count  398.000000  398.000000  398.000000  398.000000  398.000000  \n",
       "mean    63.964824   31.412060   60.987437   89.125628   65.688442  \n",
       "std     90.307668   56.863583   76.954678  107.792759   95.308241  \n",
       "min      0.000000    0.000000    0.000000    0.000000    0.000000  \n",
       "25%     12.250000    2.000000   10.000000   28.000000   12.000000  \n",
       "50%     39.000000   11.500000   38.000000   57.000000   42.000000  \n",
       "75%     66.000000   35.750000   83.000000  107.000000   78.750000  \n",
       "max    676.000000  486.000000  523.000000  996.000000  816.000000  "
      ]
     },
     "execution_count": 38,
     "metadata": {},
     "output_type": "execute_result"
    }
   ],
   "source": [
    "X_train.describe()"
   ]
  },
  {
   "cell_type": "code",
   "execution_count": 39,
   "metadata": {
    "ExecuteTime": {
     "end_time": "2020-05-20T02:01:33.655323Z",
     "start_time": "2020-05-20T02:01:33.651247Z"
    }
   },
   "outputs": [
    {
     "data": {
      "text/plain": [
       "369"
      ]
     },
     "execution_count": 39,
     "metadata": {},
     "output_type": "execute_result"
    }
   ],
   "source": [
    "X_train['G'].idxmax(axis=0, skipna=True)"
   ]
  },
  {
   "cell_type": "markdown",
   "metadata": {},
   "source": [
    "#### Frequncy of notes"
   ]
  },
  {
   "cell_type": "code",
   "execution_count": 44,
   "metadata": {
    "ExecuteTime": {
     "end_time": "2020-05-20T02:01:33.704316Z",
     "start_time": "2020-05-20T02:01:33.673704Z"
    }
   },
   "outputs": [],
   "source": [
    "features = X_train.describe().columns"
   ]
  },
  {
   "cell_type": "code",
   "execution_count": 45,
   "metadata": {
    "ExecuteTime": {
     "end_time": "2020-05-20T02:01:34.810355Z",
     "start_time": "2020-05-20T02:01:33.706282Z"
    }
   },
   "outputs": [
    {
     "data": {
      "image/png": "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\n",
      "text/plain": [
       "<Figure size 576x1080 with 10 Axes>"
      ]
     },
     "metadata": {
      "needs_background": "light"
     },
     "output_type": "display_data"
    }
   ],
   "source": [
    "f, axes = plt.subplots(len(features), 1, figsize=(8,15))\n",
    "for i, f in enumerate(features):\n",
    "    X_train[f].plot(kind='kde', ax=axes[i]).set_title(f)\n",
    "plt.tight_layout()    \n",
    "plt.show() "
   ]
  },
  {
   "cell_type": "markdown",
   "metadata": {},
   "source": [
    "#### seems that our notes behave as normal distribution "
   ]
  },
  {
   "cell_type": "code",
   "execution_count": 46,
   "metadata": {
    "ExecuteTime": {
     "end_time": "2020-05-20T02:01:34.814605Z",
     "start_time": "2020-05-20T02:01:34.812413Z"
    }
   },
   "outputs": [],
   "source": [
    "cols = ['First', 'last']"
   ]
  },
  {
   "cell_type": "code",
   "execution_count": 47,
   "metadata": {
    "ExecuteTime": {
     "end_time": "2020-05-20T02:01:35.194699Z",
     "start_time": "2020-05-20T02:01:34.816009Z"
    }
   },
   "outputs": [
    {
     "data": {
      "image/png": "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\n",
      "text/plain": [
       "<Figure size 1440x504 with 1 Axes>"
      ]
     },
     "metadata": {
      "needs_background": "light"
     },
     "output_type": "display_data"
    },
    {
     "data": {
      "image/png": "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\n",
      "text/plain": [
       "<Figure size 1440x504 with 1 Axes>"
      ]
     },
     "metadata": {},
     "output_type": "display_data"
    }
   ],
   "source": [
    "for feature in cols:\n",
    "    fig, ax= plt.subplots(figsize=(20,7))\n",
    "    sns.set(style=\"darkgrid\")\n",
    "    sns.countplot(x=feature, data=X_train, color='skyblue') \n",
    "    ax.set_title(feature, fontsize = 25)\n",
    "    ax.set_xlabel(feature, fontsize=23)\n",
    "    ax.tick_params(labelsize=20)\n",
    "    plt.show()"
   ]
  },
  {
   "cell_type": "markdown",
   "metadata": {},
   "source": [
    "#### we can see that E is a dominant note for start and finish "
   ]
  },
  {
   "cell_type": "code",
   "execution_count": null,
   "metadata": {},
   "outputs": [],
   "source": []
  },
  {
   "cell_type": "markdown",
   "metadata": {},
   "source": [
    "## Now we will intreduce our first simple model :"
   ]
  }
